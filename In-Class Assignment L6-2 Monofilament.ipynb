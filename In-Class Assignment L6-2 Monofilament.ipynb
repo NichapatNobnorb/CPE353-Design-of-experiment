{
 "cells": [
  {
   "cell_type": "markdown",
   "id": "12a21b3b",
   "metadata": {},
   "source": [
    "# In-Class Assignment L6-2:Monofilament"
   ]
  },
  {
   "cell_type": "code",
   "execution_count": 12,
   "id": "31684208",
   "metadata": {},
   "outputs": [
    {
     "name": "stdout",
     "output_type": "stream",
     "text": [
      "\n",
      "Enabling interactive shell outputs ...\n",
      "   Use command pass; to disable cell text outputs\n"
     ]
    }
   ],
   "source": [
    "print('\\nEnabling interactive shell outputs ...')\n",
    "print('   Use command pass; to disable cell text outputs')\n",
    "from IPython.core.interactiveshell import InteractiveShell\n",
    "InteractiveShell.ast_node_interactivity = \"all\"\n",
    "\n",
    "import warnings\n",
    "warnings.filterwarnings('ignore') \n",
    "warnings.simplefilter(action=\"ignore\",category=UserWarning)\n",
    "warnings.simplefilter(action=\"ignore\",category=FutureWarning)\n",
    "\n",
    "import pandas as pd \n",
    "import numpy as np\n",
    "import matplotlib.pyplot as plt\n",
    "import seaborn as sns\n",
    "from scipy import stats\n",
    "import statsmodels.api as sm\n",
    "\n",
    "\n",
    "\n",
    "%matplotlib inline\n",
    "%config InlineBackend.figure_formats = {'png', 'retina'}"
   ]
  },
  {
   "cell_type": "code",
   "execution_count": 13,
   "id": "5917d0c2",
   "metadata": {},
   "outputs": [
    {
     "data": {
      "text/html": [
       "<div>\n",
       "<style scoped>\n",
       "    .dataframe tbody tr th:only-of-type {\n",
       "        vertical-align: middle;\n",
       "    }\n",
       "\n",
       "    .dataframe tbody tr th {\n",
       "        vertical-align: top;\n",
       "    }\n",
       "\n",
       "    .dataframe thead th {\n",
       "        text-align: right;\n",
       "    }\n",
       "</style>\n",
       "<table border=\"1\" class=\"dataframe\">\n",
       "  <thead>\n",
       "    <tr style=\"text-align: right;\">\n",
       "      <th></th>\n",
       "      <th>Strength</th>\n",
       "      <th>Diameter</th>\n",
       "      <th>Machine</th>\n",
       "    </tr>\n",
       "  </thead>\n",
       "  <tbody>\n",
       "    <tr>\n",
       "      <th>0</th>\n",
       "      <td>36</td>\n",
       "      <td>20</td>\n",
       "      <td>M1</td>\n",
       "    </tr>\n",
       "    <tr>\n",
       "      <th>1</th>\n",
       "      <td>41</td>\n",
       "      <td>25</td>\n",
       "      <td>M1</td>\n",
       "    </tr>\n",
       "    <tr>\n",
       "      <th>2</th>\n",
       "      <td>39</td>\n",
       "      <td>24</td>\n",
       "      <td>M1</td>\n",
       "    </tr>\n",
       "    <tr>\n",
       "      <th>3</th>\n",
       "      <td>42</td>\n",
       "      <td>25</td>\n",
       "      <td>M1</td>\n",
       "    </tr>\n",
       "    <tr>\n",
       "      <th>4</th>\n",
       "      <td>49</td>\n",
       "      <td>32</td>\n",
       "      <td>M1</td>\n",
       "    </tr>\n",
       "    <tr>\n",
       "      <th>5</th>\n",
       "      <td>40</td>\n",
       "      <td>22</td>\n",
       "      <td>M2</td>\n",
       "    </tr>\n",
       "    <tr>\n",
       "      <th>6</th>\n",
       "      <td>48</td>\n",
       "      <td>28</td>\n",
       "      <td>M2</td>\n",
       "    </tr>\n",
       "    <tr>\n",
       "      <th>7</th>\n",
       "      <td>39</td>\n",
       "      <td>22</td>\n",
       "      <td>M2</td>\n",
       "    </tr>\n",
       "    <tr>\n",
       "      <th>8</th>\n",
       "      <td>45</td>\n",
       "      <td>30</td>\n",
       "      <td>M2</td>\n",
       "    </tr>\n",
       "    <tr>\n",
       "      <th>9</th>\n",
       "      <td>44</td>\n",
       "      <td>28</td>\n",
       "      <td>M2</td>\n",
       "    </tr>\n",
       "    <tr>\n",
       "      <th>10</th>\n",
       "      <td>35</td>\n",
       "      <td>21</td>\n",
       "      <td>M3</td>\n",
       "    </tr>\n",
       "    <tr>\n",
       "      <th>11</th>\n",
       "      <td>37</td>\n",
       "      <td>23</td>\n",
       "      <td>M3</td>\n",
       "    </tr>\n",
       "    <tr>\n",
       "      <th>12</th>\n",
       "      <td>42</td>\n",
       "      <td>26</td>\n",
       "      <td>M3</td>\n",
       "    </tr>\n",
       "    <tr>\n",
       "      <th>13</th>\n",
       "      <td>34</td>\n",
       "      <td>21</td>\n",
       "      <td>M3</td>\n",
       "    </tr>\n",
       "    <tr>\n",
       "      <th>14</th>\n",
       "      <td>32</td>\n",
       "      <td>15</td>\n",
       "      <td>M3</td>\n",
       "    </tr>\n",
       "  </tbody>\n",
       "</table>\n",
       "</div>"
      ],
      "text/plain": [
       "    Strength  Diameter Machine\n",
       "0         36        20      M1\n",
       "1         41        25      M1\n",
       "2         39        24      M1\n",
       "3         42        25      M1\n",
       "4         49        32      M1\n",
       "5         40        22      M2\n",
       "6         48        28      M2\n",
       "7         39        22      M2\n",
       "8         45        30      M2\n",
       "9         44        28      M2\n",
       "10        35        21      M3\n",
       "11        37        23      M3\n",
       "12        42        26      M3\n",
       "13        34        21      M3\n",
       "14        32        15      M3"
      ]
     },
     "execution_count": 13,
     "metadata": {},
     "output_type": "execute_result"
    }
   ],
   "source": [
    "Monofilament_data = pd.read_excel('lect06-ancova.xlsx', sheet_name='Filament')\n",
    "Monofilament_data"
   ]
  },
  {
   "cell_type": "code",
   "execution_count": 14,
   "id": "ade70e0b",
   "metadata": {},
   "outputs": [
    {
     "data": {
      "text/html": [
       "<div>\n",
       "<style scoped>\n",
       "    .dataframe tbody tr th:only-of-type {\n",
       "        vertical-align: middle;\n",
       "    }\n",
       "\n",
       "    .dataframe tbody tr th {\n",
       "        vertical-align: top;\n",
       "    }\n",
       "\n",
       "    .dataframe thead th {\n",
       "        text-align: right;\n",
       "    }\n",
       "</style>\n",
       "<table border=\"1\" class=\"dataframe\">\n",
       "  <thead>\n",
       "    <tr style=\"text-align: right;\">\n",
       "      <th></th>\n",
       "      <th>Strength</th>\n",
       "      <th>Diameter</th>\n",
       "      <th>Machine</th>\n",
       "      <th>I1</th>\n",
       "      <th>I2</th>\n",
       "    </tr>\n",
       "  </thead>\n",
       "  <tbody>\n",
       "    <tr>\n",
       "      <th>0</th>\n",
       "      <td>36</td>\n",
       "      <td>-4.133333</td>\n",
       "      <td>M1</td>\n",
       "      <td>1</td>\n",
       "      <td>0</td>\n",
       "    </tr>\n",
       "    <tr>\n",
       "      <th>1</th>\n",
       "      <td>41</td>\n",
       "      <td>0.866667</td>\n",
       "      <td>M1</td>\n",
       "      <td>1</td>\n",
       "      <td>0</td>\n",
       "    </tr>\n",
       "    <tr>\n",
       "      <th>2</th>\n",
       "      <td>39</td>\n",
       "      <td>-0.133333</td>\n",
       "      <td>M1</td>\n",
       "      <td>1</td>\n",
       "      <td>0</td>\n",
       "    </tr>\n",
       "    <tr>\n",
       "      <th>3</th>\n",
       "      <td>42</td>\n",
       "      <td>0.866667</td>\n",
       "      <td>M1</td>\n",
       "      <td>1</td>\n",
       "      <td>0</td>\n",
       "    </tr>\n",
       "    <tr>\n",
       "      <th>4</th>\n",
       "      <td>49</td>\n",
       "      <td>7.866667</td>\n",
       "      <td>M1</td>\n",
       "      <td>1</td>\n",
       "      <td>0</td>\n",
       "    </tr>\n",
       "    <tr>\n",
       "      <th>5</th>\n",
       "      <td>40</td>\n",
       "      <td>-2.133333</td>\n",
       "      <td>M2</td>\n",
       "      <td>0</td>\n",
       "      <td>1</td>\n",
       "    </tr>\n",
       "    <tr>\n",
       "      <th>6</th>\n",
       "      <td>48</td>\n",
       "      <td>3.866667</td>\n",
       "      <td>M2</td>\n",
       "      <td>0</td>\n",
       "      <td>1</td>\n",
       "    </tr>\n",
       "    <tr>\n",
       "      <th>7</th>\n",
       "      <td>39</td>\n",
       "      <td>-2.133333</td>\n",
       "      <td>M2</td>\n",
       "      <td>0</td>\n",
       "      <td>1</td>\n",
       "    </tr>\n",
       "    <tr>\n",
       "      <th>8</th>\n",
       "      <td>45</td>\n",
       "      <td>5.866667</td>\n",
       "      <td>M2</td>\n",
       "      <td>0</td>\n",
       "      <td>1</td>\n",
       "    </tr>\n",
       "    <tr>\n",
       "      <th>9</th>\n",
       "      <td>44</td>\n",
       "      <td>3.866667</td>\n",
       "      <td>M2</td>\n",
       "      <td>0</td>\n",
       "      <td>1</td>\n",
       "    </tr>\n",
       "    <tr>\n",
       "      <th>10</th>\n",
       "      <td>35</td>\n",
       "      <td>-3.133333</td>\n",
       "      <td>M3</td>\n",
       "      <td>-1</td>\n",
       "      <td>-1</td>\n",
       "    </tr>\n",
       "    <tr>\n",
       "      <th>11</th>\n",
       "      <td>37</td>\n",
       "      <td>-1.133333</td>\n",
       "      <td>M3</td>\n",
       "      <td>-1</td>\n",
       "      <td>-1</td>\n",
       "    </tr>\n",
       "    <tr>\n",
       "      <th>12</th>\n",
       "      <td>42</td>\n",
       "      <td>1.866667</td>\n",
       "      <td>M3</td>\n",
       "      <td>-1</td>\n",
       "      <td>-1</td>\n",
       "    </tr>\n",
       "    <tr>\n",
       "      <th>13</th>\n",
       "      <td>34</td>\n",
       "      <td>-3.133333</td>\n",
       "      <td>M3</td>\n",
       "      <td>-1</td>\n",
       "      <td>-1</td>\n",
       "    </tr>\n",
       "    <tr>\n",
       "      <th>14</th>\n",
       "      <td>32</td>\n",
       "      <td>-9.133333</td>\n",
       "      <td>M3</td>\n",
       "      <td>-1</td>\n",
       "      <td>-1</td>\n",
       "    </tr>\n",
       "  </tbody>\n",
       "</table>\n",
       "</div>"
      ],
      "text/plain": [
       "    Strength  Diameter Machine  I1  I2\n",
       "0         36 -4.133333      M1   1   0\n",
       "1         41  0.866667      M1   1   0\n",
       "2         39 -0.133333      M1   1   0\n",
       "3         42  0.866667      M1   1   0\n",
       "4         49  7.866667      M1   1   0\n",
       "5         40 -2.133333      M2   0   1\n",
       "6         48  3.866667      M2   0   1\n",
       "7         39 -2.133333      M2   0   1\n",
       "8         45  5.866667      M2   0   1\n",
       "9         44  3.866667      M2   0   1\n",
       "10        35 -3.133333      M3  -1  -1\n",
       "11        37 -1.133333      M3  -1  -1\n",
       "12        42  1.866667      M3  -1  -1\n",
       "13        34 -3.133333      M3  -1  -1\n",
       "14        32 -9.133333      M3  -1  -1"
      ]
     },
     "execution_count": 14,
     "metadata": {},
     "output_type": "execute_result"
    }
   ],
   "source": [
    "def codingfunc(x):\n",
    "    if x == 'M1':\n",
    "        return (1,0)\n",
    "    elif x == 'M2':\n",
    "        return (0,1)\n",
    "    else:\n",
    "        return (-1,-1)\n",
    "\n",
    "Monofilament_data[['I1', 'I2']] = pd.DataFrame(Monofilament_data['Machine'].apply(codingfunc).tolist(), \n",
    "                                           index=Monofilament_data.index)\n",
    "Monofilament_data.Diameter -= Monofilament_data.Diameter.mean()\n",
    "Monofilament_data"
   ]
  },
  {
   "cell_type": "code",
   "execution_count": 15,
   "id": "6d0cc696",
   "metadata": {},
   "outputs": [
    {
     "data": {
      "text/html": [
       "<div>\n",
       "<style scoped>\n",
       "    .dataframe tbody tr th:only-of-type {\n",
       "        vertical-align: middle;\n",
       "    }\n",
       "\n",
       "    .dataframe tbody tr th {\n",
       "        vertical-align: top;\n",
       "    }\n",
       "\n",
       "    .dataframe thead th {\n",
       "        text-align: right;\n",
       "    }\n",
       "</style>\n",
       "<table border=\"1\" class=\"dataframe\">\n",
       "  <thead>\n",
       "    <tr style=\"text-align: right;\">\n",
       "      <th></th>\n",
       "      <th>df</th>\n",
       "      <th>sum_sq</th>\n",
       "      <th>mean_sq</th>\n",
       "      <th>F</th>\n",
       "      <th>PR(&gt;F)</th>\n",
       "    </tr>\n",
       "  </thead>\n",
       "  <tbody>\n",
       "    <tr>\n",
       "      <th>C(Machine)</th>\n",
       "      <td>2.0</td>\n",
       "      <td>140.4</td>\n",
       "      <td>70.200000</td>\n",
       "      <td>4.08932</td>\n",
       "      <td>0.044232</td>\n",
       "    </tr>\n",
       "    <tr>\n",
       "      <th>Residual</th>\n",
       "      <td>12.0</td>\n",
       "      <td>206.0</td>\n",
       "      <td>17.166667</td>\n",
       "      <td>NaN</td>\n",
       "      <td>NaN</td>\n",
       "    </tr>\n",
       "  </tbody>\n",
       "</table>\n",
       "</div>"
      ],
      "text/plain": [
       "              df  sum_sq    mean_sq        F    PR(>F)\n",
       "C(Machine)   2.0   140.4  70.200000  4.08932  0.044232\n",
       "Residual    12.0   206.0  17.166667      NaN       NaN"
      ]
     },
     "execution_count": 15,
     "metadata": {},
     "output_type": "execute_result"
    }
   ],
   "source": [
    "from statsmodels.formula.api import ols\n",
    "from statsmodels.stats.anova import anova_lm\n",
    "\n",
    "\n",
    "formula = 'Strength ~ C(Machine)'\n",
    "\n",
    "\n",
    "Monofilament_lm = ols(formula, data=Monofilament_data).fit()\n",
    "aov_table = anova_lm(Monofilament_lm) \n",
    "aov_table"
   ]
  },
  {
   "cell_type": "markdown",
   "id": "3ccf0078",
   "metadata": {},
   "source": [
    "### จากการทดสอบผลที่ได้คือ Machine ส่งผลต่อ response Strength เพราะค่า p-value = 0.044232 ซึ่งมีค่าน้อยกว่า 0.05"
   ]
  },
  {
   "cell_type": "code",
   "execution_count": 16,
   "id": "84a575aa",
   "metadata": {},
   "outputs": [
    {
     "data": {
      "text/html": [
       "<table class=\"simpletable\">\n",
       "<tr>\n",
       "        <td>Model:</td>               <td>OLS</td>         <td>Adj. R-squared:</td>     <td>0.897</td> \n",
       "</tr>\n",
       "<tr>\n",
       "  <td>Dependent Variable:</td>     <td>Strength</td>            <td>AIC:</td>          <td>59.9229</td>\n",
       "</tr>\n",
       "<tr>\n",
       "         <td>Date:</td>        <td>2021-10-14 11:21</td>        <td>BIC:</td>          <td>62.7551</td>\n",
       "</tr>\n",
       "<tr>\n",
       "   <td>No. Observations:</td>         <td>15</td>          <td>Log-Likelihood:</td>    <td>-25.961</td>\n",
       "</tr>\n",
       "<tr>\n",
       "       <td>Df Model:</td>              <td>3</td>           <td>F-statistic:</td>       <td>41.72</td> \n",
       "</tr>\n",
       "<tr>\n",
       "     <td>Df Residuals:</td>           <td>11</td>        <td>Prob (F-statistic):</td> <td>2.66e-06</td>\n",
       "</tr>\n",
       "<tr>\n",
       "      <td>R-squared:</td>            <td>0.919</td>            <td>Scale:</td>         <td>2.5442</td> \n",
       "</tr>\n",
       "</table>\n",
       "<table class=\"simpletable\">\n",
       "<tr>\n",
       "      <td></td>       <th>Coef.</th>  <th>Std.Err.</th>    <th>t</th>     <th>P>|t|</th> <th>[0.025</th>  <th>0.975]</th> \n",
       "</tr>\n",
       "<tr>\n",
       "  <th>Intercept</th> <td>40.2000</td>  <td>0.4118</td>  <td>97.6109</td> <td>0.0000</td> <td>39.2935</td> <td>41.1065</td>\n",
       "</tr>\n",
       "<tr>\n",
       "  <th>I1</th>        <td>0.1824</td>   <td>0.5950</td>  <td>0.3066</td>  <td>0.7649</td> <td>-1.1272</td> <td>1.4920</td> \n",
       "</tr>\n",
       "<tr>\n",
       "  <th>I2</th>        <td>1.2192</td>   <td>0.6201</td>  <td>1.9661</td>  <td>0.0750</td> <td>-0.1456</td> <td>2.5841</td> \n",
       "</tr>\n",
       "<tr>\n",
       "  <th>Diameter</th>  <td>0.9540</td>   <td>0.1140</td>  <td>8.3648</td>  <td>0.0000</td> <td>0.7030</td>  <td>1.2050</td> \n",
       "</tr>\n",
       "</table>\n",
       "<table class=\"simpletable\">\n",
       "<tr>\n",
       "     <td>Omnibus:</td>    <td>0.909</td>  <td>Durbin-Watson:</td>   <td>1.931</td>\n",
       "</tr>\n",
       "<tr>\n",
       "  <td>Prob(Omnibus):</td> <td>0.635</td> <td>Jarque-Bera (JB):</td> <td>0.818</td>\n",
       "</tr>\n",
       "<tr>\n",
       "       <td>Skew:</td>     <td>0.463</td>     <td>Prob(JB):</td>     <td>0.664</td>\n",
       "</tr>\n",
       "<tr>\n",
       "     <td>Kurtosis:</td>   <td>2.327</td>  <td>Condition No.:</td>     <td>7</td>  \n",
       "</tr>\n",
       "</table>"
      ],
      "text/plain": [
       "<class 'statsmodels.iolib.summary2.Summary'>\n",
       "\"\"\"\n",
       "                 Results: Ordinary least squares\n",
       "=================================================================\n",
       "Model:              OLS              Adj. R-squared:     0.897   \n",
       "Dependent Variable: Strength         AIC:                59.9229 \n",
       "Date:               2021-10-14 11:21 BIC:                62.7551 \n",
       "No. Observations:   15               Log-Likelihood:     -25.961 \n",
       "Df Model:           3                F-statistic:        41.72   \n",
       "Df Residuals:       11               Prob (F-statistic): 2.66e-06\n",
       "R-squared:          0.919            Scale:              2.5442  \n",
       "------------------------------------------------------------------\n",
       "               Coef.   Std.Err.     t     P>|t|    [0.025   0.975]\n",
       "------------------------------------------------------------------\n",
       "Intercept     40.2000    0.4118  97.6109  0.0000  39.2935  41.1065\n",
       "I1             0.1824    0.5950   0.3066  0.7649  -1.1272   1.4920\n",
       "I2             1.2192    0.6201   1.9661  0.0750  -0.1456   2.5841\n",
       "Diameter       0.9540    0.1140   8.3648  0.0000   0.7030   1.2050\n",
       "-----------------------------------------------------------------\n",
       "Omnibus:              0.909        Durbin-Watson:           1.931\n",
       "Prob(Omnibus):        0.635        Jarque-Bera (JB):        0.818\n",
       "Skew:                 0.463        Prob(JB):                0.664\n",
       "Kurtosis:             2.327        Condition No.:           7    \n",
       "=================================================================\n",
       "\n",
       "\"\"\""
      ]
     },
     "execution_count": 16,
     "metadata": {},
     "output_type": "execute_result"
    }
   ],
   "source": [
    "from statsmodels.formula.api import ols\n",
    "\n",
    "formula = 'Strength ~ I1 + I2 + Diameter'\n",
    "Monofilament_lm = ols(formula, data=Monofilament_data).fit()\n",
    "Monofilament_lm.summary2()"
   ]
  },
  {
   "cell_type": "markdown",
   "id": "6f880177",
   "metadata": {},
   "source": [
    "### จากการทำ test แบบมี covariate จะได้ว่า do not reject H0 (ค่า p-value < alpha 0.05) นั่นคือ ค่า machine ไม่ส่งผลต่อค่า response หรือทำให้ค่า Strength ที่ได้ไม่แตกต่างกัน"
   ]
  },
  {
   "cell_type": "code",
   "execution_count": 17,
   "id": "f0a7bfd8",
   "metadata": {},
   "outputs": [
    {
     "name": "stdout",
     "output_type": "stream",
     "text": [
      "MSE (ANCOVA): 2.54\n"
     ]
    }
   ],
   "source": [
    "print('MSE (ANCOVA): {:.2f}'.format(Monofilament_lm.mse_resid))"
   ]
  },
  {
   "cell_type": "code",
   "execution_count": 18,
   "id": "0d6f757f",
   "metadata": {},
   "outputs": [],
   "source": [
    "def check_linreg_residuals(model):\n",
    "\n",
    "    kws = dict(color='blue', marker='o', markersize=7, alpha=0.5)\n",
    "    sns1_kws = dict(marker='o', s=70, alpha=0.5)\n",
    "    sns2_kws = dict(marker='o', s=7, alpha=0.5)\n",
    "    \n",
    "    x = model.resid\n",
    "    yhat = model.fittedvalues\n",
    "    \n",
    "    fig = plt.figure(figsize=(9, 7))\n",
    "\n",
    "    ax1 = fig.add_subplot(221)\n",
    "    ax2 = fig.add_subplot(222)\n",
    "    ax3 = fig.add_subplot(223)\n",
    "    ax4 = fig.add_subplot(224)\n",
    "\n",
    "    ax1.scatter(yhat, x, **sns1_kws)\n",
    "    ax1.set_title('Residuals vs. Fitted values')\n",
    "    \n",
    "    n=len(x)\n",
    "    #sns.residplot(np.linspace(1,n,n), x, ax=ax2, scatter_kws=sns1_kws)\n",
    "    #ax2.set_title('Sequence plot')\n",
    "    ax2.scatter(yhat+x, yhat, **sns1_kws)\n",
    "    ax2.set_title('Actual vs. Fitted values')\n",
    "      \n",
    "    # Box plot\n",
    "    ax3.boxplot(x,showmeans=True)\n",
    "    ax3.set_title('Boxplot')\n",
    "\n",
    "    # qq plot\n",
    "    sm.graphics.qqplot(x,line='q', ax=ax4, **kws)\n",
    "    ax4.set_title('Normal Q-Q plot')\n",
    "    plt.tight_layout()"
   ]
  },
  {
   "cell_type": "code",
   "execution_count": 19,
   "id": "a21d9f6c",
   "metadata": {},
   "outputs": [
    {
     "data": {
      "image/png": "[encoded data removed]",
      "text/plain": [
       "<Figure size 648x504 with 4 Axes>"
      ]
     },
     "metadata": {
      "image/png": {
       "height": 495,
       "width": 639
      },
      "needs_background": "light"
     },
     "output_type": "display_data"
    }
   ],
   "source": [
    "check_linreg_residuals(Monofilament_lm)"
   ]
  },
  {
   "cell_type": "code",
   "execution_count": 20,
   "id": "715fa0d2",
   "metadata": {},
   "outputs": [
    {
     "data": {
      "text/html": [
       "<table class=\"simpletable\">\n",
       "<tr>\n",
       "        <td>Model:</td>               <td>OLS</td>         <td>Adj. R-squared:</td>     <td>0.872</td> \n",
       "</tr>\n",
       "<tr>\n",
       "  <td>Dependent Variable:</td>     <td>Strength</td>            <td>AIC:</td>          <td>61.7493</td>\n",
       "</tr>\n",
       "<tr>\n",
       "         <td>Date:</td>        <td>2021-10-14 11:21</td>        <td>BIC:</td>          <td>63.1654</td>\n",
       "</tr>\n",
       "<tr>\n",
       "   <td>No. Observations:</td>         <td>15</td>          <td>Log-Likelihood:</td>    <td>-28.875</td>\n",
       "</tr>\n",
       "<tr>\n",
       "       <td>Df Model:</td>              <td>1</td>           <td>F-statistic:</td>       <td>96.12</td> \n",
       "</tr>\n",
       "<tr>\n",
       "     <td>Df Residuals:</td>           <td>13</td>        <td>Prob (F-statistic):</td> <td>2.26e-07</td>\n",
       "</tr>\n",
       "<tr>\n",
       "      <td>R-squared:</td>            <td>0.881</td>            <td>Scale:</td>         <td>3.1746</td> \n",
       "</tr>\n",
       "</table>\n",
       "<table class=\"simpletable\">\n",
       "<tr>\n",
       "      <td></td>       <th>Coef.</th>  <th>Std.Err.</th>    <th>t</th>     <th>P>|t|</th> <th>[0.025</th>  <th>0.975]</th> \n",
       "</tr>\n",
       "<tr>\n",
       "  <th>Intercept</th> <td>40.2000</td>  <td>0.4600</td>  <td>87.3831</td> <td>0.0000</td> <td>39.2061</td> <td>41.1939</td>\n",
       "</tr>\n",
       "<tr>\n",
       "  <th>Diameter</th>  <td>1.0797</td>   <td>0.1101</td>  <td>9.8039</td>  <td>0.0000</td> <td>0.8418</td>  <td>1.3177</td> \n",
       "</tr>\n",
       "</table>\n",
       "<table class=\"simpletable\">\n",
       "<tr>\n",
       "     <td>Omnibus:</td>    <td>0.495</td>  <td>Durbin-Watson:</td>   <td>1.387</td>\n",
       "</tr>\n",
       "<tr>\n",
       "  <td>Prob(Omnibus):</td> <td>0.781</td> <td>Jarque-Bera (JB):</td> <td>0.362</td>\n",
       "</tr>\n",
       "<tr>\n",
       "       <td>Skew:</td>     <td>0.331</td>     <td>Prob(JB):</td>     <td>0.834</td>\n",
       "</tr>\n",
       "<tr>\n",
       "     <td>Kurtosis:</td>   <td>2.623</td>  <td>Condition No.:</td>     <td>4</td>  \n",
       "</tr>\n",
       "</table>"
      ],
      "text/plain": [
       "<class 'statsmodels.iolib.summary2.Summary'>\n",
       "\"\"\"\n",
       "                 Results: Ordinary least squares\n",
       "=================================================================\n",
       "Model:              OLS              Adj. R-squared:     0.872   \n",
       "Dependent Variable: Strength         AIC:                61.7493 \n",
       "Date:               2021-10-14 11:21 BIC:                63.1654 \n",
       "No. Observations:   15               Log-Likelihood:     -28.875 \n",
       "Df Model:           1                F-statistic:        96.12   \n",
       "Df Residuals:       13               Prob (F-statistic): 2.26e-07\n",
       "R-squared:          0.881            Scale:              3.1746  \n",
       "------------------------------------------------------------------\n",
       "               Coef.   Std.Err.     t     P>|t|    [0.025   0.975]\n",
       "------------------------------------------------------------------\n",
       "Intercept     40.2000    0.4600  87.3831  0.0000  39.2061  41.1939\n",
       "Diameter       1.0797    0.1101   9.8039  0.0000   0.8418   1.3177\n",
       "-----------------------------------------------------------------\n",
       "Omnibus:              0.495        Durbin-Watson:           1.387\n",
       "Prob(Omnibus):        0.781        Jarque-Bera (JB):        0.362\n",
       "Skew:                 0.331        Prob(JB):                0.834\n",
       "Kurtosis:             2.623        Condition No.:           4    \n",
       "=================================================================\n",
       "\n",
       "\"\"\""
      ]
     },
     "execution_count": 20,
     "metadata": {},
     "output_type": "execute_result"
    }
   ],
   "source": [
    "Monofilament_reduced_lm = ols('Strength ~ Diameter', data=Monofilament_data).fit()\n",
    "Monofilament_reduced_lm.summary2()"
   ]
  },
  {
   "cell_type": "code",
   "execution_count": 21,
   "id": "88e21070",
   "metadata": {},
   "outputs": [
    {
     "name": "stdout",
     "output_type": "stream",
     "text": [
      "SSE_k (reduced model): 41.27 \n",
      "SSE (full model): 27.99 \n",
      "MSE (full model): 2.54 \n"
     ]
    }
   ],
   "source": [
    "print('SSE_k (reduced model): {:.2f} '.format(Monofilament_reduced_lm.ssr))\n",
    "print('SSE (full model): {:.2f} '.format(Monofilament_lm.ssr))\n",
    "print('MSE (full model): {:.2f} '.format(Monofilament_lm.mse_resid))"
   ]
  },
  {
   "cell_type": "code",
   "execution_count": 22,
   "id": "7446defb",
   "metadata": {},
   "outputs": [
    {
     "name": "stdout",
     "output_type": "stream",
     "text": [
      "Test statistic: 2.61, P-value: 0.1181\n",
      "Critical value at 0.05: 3.98 \n"
     ]
    }
   ],
   "source": [
    "from scipy import stats\n",
    "k=2\n",
    "partial_F0 = ((Monofilament_reduced_lm.ssr-Monofilament_lm.ssr)/k)/Monofilament_lm.mse_resid\n",
    "print('Test statistic: {:.2f}, P-value: {:.4f}'.format(partial_F0, \n",
    "                                                       stats.f.sf(partial_F0, k, Monofilament_lm.df_resid)))\n",
    "print('Critical value at 0.05: {:.2f} '.format(stats.f.isf(0.05, k, Monofilament_lm.df_resid)))"
   ]
  },
  {
   "cell_type": "markdown",
   "id": "ac46b896",
   "metadata": {},
   "source": [
    "### จากการทดสอบ Partial F-test จะได้ค่า p-value = 0.1181 นั่นคือ do not reject H0  หรือสรุปได้ว่า main factor (Machine) ไม่ส่งผลต่อค่า response (Strength)\n"
   ]
  },
  {
   "cell_type": "code",
   "execution_count": 24,
   "id": "94dfd4de",
   "metadata": {},
   "outputs": [
    {
     "data": {
      "text/plain": [
       "<seaborn.axisgrid.FacetGrid at 0x25b578fbdf0>"
      ]
     },
     "execution_count": 24,
     "metadata": {},
     "output_type": "execute_result"
    },
    {
     "data": {
      "image/png": "[encoded data removed]",
      "text/plain": [
       "<Figure size 411x360 with 1 Axes>"
      ]
     },
     "metadata": {
      "image/png": {
       "height": 351,
       "width": 402
      },
      "needs_background": "light"
     },
     "output_type": "display_data"
    }
   ],
   "source": [
    "import seaborn as ans\n",
    "sns.lmplot(data=Monofilament_data, x=\"Diameter\", y=\"Strength\", hue=\"Machine\")"
   ]
  },
  {
   "cell_type": "markdown",
   "id": "366883b0",
   "metadata": {},
   "source": [
    "### สำหรับในการทำ anova ที่ให้ผลว่า treatment ให้ค่า response ต่างกันเนื่องจาก input ของ machine มีช่วง thickness(diameter) ที่ต่างกัน ทำให้ค่า strength แตกต่างกัน แต่เมื่อพิจารณาที่ค่า thickness เดียวกันจะได้ว่า ค่า strength ระหว่าง treatment ไม่ต่างกัน \n"
   ]
  },
  {
   "cell_type": "code",
   "execution_count": null,
   "id": "964689d2",
   "metadata": {},
   "outputs": [],
   "source": []
  }
 ],
 "metadata": {
  "kernelspec": {
   "display_name": "Python 3 (ipykernel)",
   "language": "python",
   "name": "python3"
  },
  "language_info": {
   "codemirror_mode": {
    "name": "ipython",
    "version": 3
   },
   "file_extension": ".py",
   "mimetype": "text/x-python",
   "name": "python",
   "nbconvert_exporter": "python",
   "pygments_lexer": "ipython3",
   "version": "3.8.8"
  }
 },
 "nbformat": 4,
 "nbformat_minor": 5
}
