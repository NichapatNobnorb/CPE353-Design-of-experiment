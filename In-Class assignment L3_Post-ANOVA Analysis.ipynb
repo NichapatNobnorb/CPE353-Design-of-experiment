{
 "cells": [
  {
   "cell_type": "markdown",
   "id": "f7659ba7",
   "metadata": {},
   "source": [
    "# In-Class assignment L3: Post-ANOVA Analysis"
   ]
  },
  {
   "cell_type": "code",
   "execution_count": 20,
   "id": "320e7e59",
   "metadata": {},
   "outputs": [],
   "source": [
    "import pandas as pd \n",
    "import numpy as np\n",
    "import matplotlib.pyplot as plt\n",
    "import seaborn as sns"
   ]
  },
  {
   "cell_type": "code",
   "execution_count": 21,
   "id": "2bd6e80e",
   "metadata": {},
   "outputs": [],
   "source": [
    "from statsmodels.formula.api import ols # Require patsy version 5.0.1+\n",
    "from statsmodels.stats.anova import anova_lm\n",
    "import statsmodels.api as sm\n",
    "import matplotlib.pyplot as plt\n",
    "import seaborn as sns"
   ]
  },
  {
   "cell_type": "code",
   "execution_count": 22,
   "id": "27a0d14c",
   "metadata": {},
   "outputs": [
    {
     "data": {
      "text/html": [
       "<div>\n",
       "<style scoped>\n",
       "    .dataframe tbody tr th:only-of-type {\n",
       "        vertical-align: middle;\n",
       "    }\n",
       "\n",
       "    .dataframe tbody tr th {\n",
       "        vertical-align: top;\n",
       "    }\n",
       "\n",
       "    .dataframe thead th {\n",
       "        text-align: right;\n",
       "    }\n",
       "</style>\n",
       "<table border=\"1\" class=\"dataframe\">\n",
       "  <thead>\n",
       "    <tr style=\"text-align: right;\">\n",
       "      <th></th>\n",
       "      <th>System</th>\n",
       "      <th>ResponseTime</th>\n",
       "    </tr>\n",
       "  </thead>\n",
       "  <tbody>\n",
       "    <tr>\n",
       "      <th>0</th>\n",
       "      <td>SystemA</td>\n",
       "      <td>0.960</td>\n",
       "    </tr>\n",
       "    <tr>\n",
       "      <th>1</th>\n",
       "      <td>SystemA</td>\n",
       "      <td>1.030</td>\n",
       "    </tr>\n",
       "    <tr>\n",
       "      <th>2</th>\n",
       "      <td>SystemA</td>\n",
       "      <td>0.770</td>\n",
       "    </tr>\n",
       "    <tr>\n",
       "      <th>3</th>\n",
       "      <td>SystemA</td>\n",
       "      <td>0.880</td>\n",
       "    </tr>\n",
       "    <tr>\n",
       "      <th>4</th>\n",
       "      <td>SystemA</td>\n",
       "      <td>1.060</td>\n",
       "    </tr>\n",
       "    <tr>\n",
       "      <th>5</th>\n",
       "      <td>SystemA</td>\n",
       "      <td>0.990</td>\n",
       "    </tr>\n",
       "    <tr>\n",
       "      <th>6</th>\n",
       "      <td>SystemA</td>\n",
       "      <td>0.720</td>\n",
       "    </tr>\n",
       "    <tr>\n",
       "      <th>7</th>\n",
       "      <td>SystemA</td>\n",
       "      <td>0.860</td>\n",
       "    </tr>\n",
       "    <tr>\n",
       "      <th>8</th>\n",
       "      <td>SystemA</td>\n",
       "      <td>0.970</td>\n",
       "    </tr>\n",
       "    <tr>\n",
       "      <th>9</th>\n",
       "      <td>SystemA</td>\n",
       "      <td>0.900</td>\n",
       "    </tr>\n",
       "    <tr>\n",
       "      <th>10</th>\n",
       "      <td>SystemA</td>\n",
       "      <td>0.914</td>\n",
       "    </tr>\n",
       "    <tr>\n",
       "      <th>11</th>\n",
       "      <td>SystemB</td>\n",
       "      <td>0.820</td>\n",
       "    </tr>\n",
       "    <tr>\n",
       "      <th>12</th>\n",
       "      <td>SystemB</td>\n",
       "      <td>0.680</td>\n",
       "    </tr>\n",
       "    <tr>\n",
       "      <th>13</th>\n",
       "      <td>SystemB</td>\n",
       "      <td>1.080</td>\n",
       "    </tr>\n",
       "    <tr>\n",
       "      <th>14</th>\n",
       "      <td>SystemB</td>\n",
       "      <td>0.760</td>\n",
       "    </tr>\n",
       "    <tr>\n",
       "      <th>15</th>\n",
       "      <td>SystemB</td>\n",
       "      <td>0.830</td>\n",
       "    </tr>\n",
       "    <tr>\n",
       "      <th>16</th>\n",
       "      <td>SystemB</td>\n",
       "      <td>0.740</td>\n",
       "    </tr>\n",
       "    <tr>\n",
       "      <th>17</th>\n",
       "      <td>SystemB</td>\n",
       "      <td>0.770</td>\n",
       "    </tr>\n",
       "    <tr>\n",
       "      <th>18</th>\n",
       "      <td>SystemB</td>\n",
       "      <td>0.850</td>\n",
       "    </tr>\n",
       "    <tr>\n",
       "      <th>19</th>\n",
       "      <td>SystemB</td>\n",
       "      <td>0.790</td>\n",
       "    </tr>\n",
       "    <tr>\n",
       "      <th>20</th>\n",
       "      <td>SystemB</td>\n",
       "      <td>0.710</td>\n",
       "    </tr>\n",
       "    <tr>\n",
       "      <th>21</th>\n",
       "      <td>SystemB</td>\n",
       "      <td>0.803</td>\n",
       "    </tr>\n",
       "    <tr>\n",
       "      <th>22</th>\n",
       "      <td>SystemC</td>\n",
       "      <td>0.750</td>\n",
       "    </tr>\n",
       "    <tr>\n",
       "      <th>23</th>\n",
       "      <td>SystemC</td>\n",
       "      <td>0.560</td>\n",
       "    </tr>\n",
       "    <tr>\n",
       "      <th>24</th>\n",
       "      <td>SystemC</td>\n",
       "      <td>0.630</td>\n",
       "    </tr>\n",
       "    <tr>\n",
       "      <th>25</th>\n",
       "      <td>SystemC</td>\n",
       "      <td>0.690</td>\n",
       "    </tr>\n",
       "    <tr>\n",
       "      <th>26</th>\n",
       "      <td>SystemC</td>\n",
       "      <td>0.730</td>\n",
       "    </tr>\n",
       "    <tr>\n",
       "      <th>27</th>\n",
       "      <td>SystemC</td>\n",
       "      <td>0.750</td>\n",
       "    </tr>\n",
       "    <tr>\n",
       "      <th>28</th>\n",
       "      <td>SystemC</td>\n",
       "      <td>0.600</td>\n",
       "    </tr>\n",
       "    <tr>\n",
       "      <th>29</th>\n",
       "      <td>SystemC</td>\n",
       "      <td>0.630</td>\n",
       "    </tr>\n",
       "    <tr>\n",
       "      <th>30</th>\n",
       "      <td>SystemC</td>\n",
       "      <td>0.590</td>\n",
       "    </tr>\n",
       "    <tr>\n",
       "      <th>31</th>\n",
       "      <td>SystemC</td>\n",
       "      <td>0.610</td>\n",
       "    </tr>\n",
       "    <tr>\n",
       "      <th>32</th>\n",
       "      <td>SystemC</td>\n",
       "      <td>0.654</td>\n",
       "    </tr>\n",
       "  </tbody>\n",
       "</table>\n",
       "</div>"
      ],
      "text/plain": [
       "     System  ResponseTime\n",
       "0   SystemA         0.960\n",
       "1   SystemA         1.030\n",
       "2   SystemA         0.770\n",
       "3   SystemA         0.880\n",
       "4   SystemA         1.060\n",
       "5   SystemA         0.990\n",
       "6   SystemA         0.720\n",
       "7   SystemA         0.860\n",
       "8   SystemA         0.970\n",
       "9   SystemA         0.900\n",
       "10  SystemA         0.914\n",
       "11  SystemB         0.820\n",
       "12  SystemB         0.680\n",
       "13  SystemB         1.080\n",
       "14  SystemB         0.760\n",
       "15  SystemB         0.830\n",
       "16  SystemB         0.740\n",
       "17  SystemB         0.770\n",
       "18  SystemB         0.850\n",
       "19  SystemB         0.790\n",
       "20  SystemB         0.710\n",
       "21  SystemB         0.803\n",
       "22  SystemC         0.750\n",
       "23  SystemC         0.560\n",
       "24  SystemC         0.630\n",
       "25  SystemC         0.690\n",
       "26  SystemC         0.730\n",
       "27  SystemC         0.750\n",
       "28  SystemC         0.600\n",
       "29  SystemC         0.630\n",
       "30  SystemC         0.590\n",
       "31  SystemC         0.610\n",
       "32  SystemC         0.654"
      ]
     },
     "execution_count": 22,
     "metadata": {},
     "output_type": "execute_result"
    }
   ],
   "source": [
    "df = pd.read_excel('data/lect03-anova.xlsx', sheet_name='Interactive')\n",
    "df"
   ]
  },
  {
   "cell_type": "code",
   "execution_count": 23,
   "id": "e812e1a5",
   "metadata": {},
   "outputs": [
    {
     "data": {
      "image/png": "[encoded data removed]",
      "text/plain": [
       "<Figure size 432x288 with 1 Axes>"
      ]
     },
     "metadata": {
      "needs_background": "light"
     },
     "output_type": "display_data"
    }
   ],
   "source": [
    "fig = plt.figure(figsize=(6,4));\n",
    "sns.boxplot(x='System',y='ResponseTime',data=df)\n",
    "plt.tight_layout()\n",
    "pass;"
   ]
  },
  {
   "cell_type": "markdown",
   "id": "065a7bb5",
   "metadata": {},
   "source": [
    "# Check if the normality assumption is met.\n"
   ]
  },
  {
   "cell_type": "markdown",
   "id": "f0ccb511",
   "metadata": {},
   "source": [
    "## Ans. Residuals มีการกระจายตัวในแต่ละกลุ่มใกล้เคียงกัน และในส่วนของกราฟ Normal plot มีการเรียงตัวตามแนวเส้นตรง ดังั้นข้อมูลจึงเป็นแบบ normal distribution"
   ]
  },
  {
   "cell_type": "code",
   "execution_count": 24,
   "id": "935081f2",
   "metadata": {},
   "outputs": [],
   "source": [
    "def check_anova_normality(group, x):\n",
    "\n",
    "    T = len(x)\n",
    "    \n",
    "    fig = plt.figure(figsize=(10,8))\n",
    "\n",
    "    ax1 = fig.add_subplot(221)\n",
    "    ax2 = fig.add_subplot(222)\n",
    "    ax3 = fig.add_subplot(223)\n",
    "    ax4 = fig.add_subplot(224)\n",
    "\n",
    "    #ax1.plot(x, color='blue', alpha=0.5, linestyle='--', marker='o', ms=4)\n",
    "    n=len(x)\n",
    "    sns.residplot(np.linspace(1,n,n), x, color='blue', ax=ax1)\n",
    "    ax1.set_title('Sequence plot')\n",
    "    \n",
    "    # Scatter plot\n",
    "    #ax2.scatter(x, x.shift(), alpha=0.5, color='red')\n",
    "    #ax2.set_title(r'Scatter plot of $e_n$ vs $e_{n+1}$')\n",
    "    \n",
    "    # Residual groupplot\n",
    "    resid_df = pd.DataFrame({'Group':group, 'Resid':x})\n",
    "    sns.stripplot(x='Group', y='Resid', data=resid_df, ax=ax2) \n",
    "    ax2.set_title('Residuals by treatments')\n",
    "    \n",
    "    # Box plot\n",
    "    #ax2.boxplot(x,showmeans=True)\n",
    "    #ax2.set_title('Boxplot')\n",
    "\n",
    "    # histogram plot\n",
    "    sns.distplot(x, hist=True, kde=True, ax=ax3)\n",
    "    ax3.set_title('Histogram')\n",
    "\n",
    "\n",
    "    # qq plot\n",
    "    sm.graphics.qqplot(x,line='q',ax=ax4)\n",
    "    ax4.set_title('Normal plot')\n",
    "    plt.tight_layout()"
   ]
  },
  {
   "cell_type": "code",
   "execution_count": 1,
   "id": "3f5bff8c",
   "metadata": {},
   "outputs": [
    {
     "ename": "NameError",
     "evalue": "name 'check_anova_normality' is not defined",
     "output_type": "error",
     "traceback": [
      "\u001b[1;31m---------------------------------------------------------------------------\u001b[0m",
      "\u001b[1;31mNameError\u001b[0m                                 Traceback (most recent call last)",
      "\u001b[1;32m~\\AppData\\Local\\Temp/ipykernel_14472/2418503773.py\u001b[0m in \u001b[0;36m<module>\u001b[1;34m\u001b[0m\n\u001b[1;32m----> 1\u001b[1;33m \u001b[0mcheck_anova_normality\u001b[0m\u001b[1;33m(\u001b[0m\u001b[0mdf\u001b[0m\u001b[1;33m[\u001b[0m\u001b[1;34m'System'\u001b[0m\u001b[1;33m]\u001b[0m\u001b[1;33m,\u001b[0m \u001b[0msys_interac_model\u001b[0m\u001b[1;33m.\u001b[0m\u001b[0mresid\u001b[0m\u001b[1;33m)\u001b[0m\u001b[1;33m\u001b[0m\u001b[1;33m\u001b[0m\u001b[0m\n\u001b[0m",
      "\u001b[1;31mNameError\u001b[0m: name 'check_anova_normality' is not defined"
     ]
    }
   ],
   "source": [
    "check_anova_normality(df['System'], sys_interac_model.resid)"
   ]
  },
  {
   "cell_type": "markdown",
   "id": "19881c5f",
   "metadata": {},
   "source": [
    "# Determine which pairs of systems have different mean response times?"
   ]
  },
  {
   "cell_type": "markdown",
   "id": "ae42a92b",
   "metadata": {},
   "source": [
    "## Ans. Every pairs of systems have different mean response times."
   ]
  },
  {
   "cell_type": "code",
   "execution_count": 26,
   "id": "b161e34f",
   "metadata": {},
   "outputs": [
    {
     "name": "stdout",
     "output_type": "stream",
     "text": [
      " Multiple Comparison of Means - Tukey HSD, FWER=0.05  \n",
      "======================================================\n",
      " group1  group2 meandiff p-adj   lower   upper  reject\n",
      "------------------------------------------------------\n",
      "SystemA SystemB   -0.111 0.0247 -0.2095 -0.0125   True\n",
      "SystemA SystemC    -0.26  0.001 -0.3585 -0.1615   True\n",
      "SystemB SystemC   -0.149 0.0022 -0.2475 -0.0505   True\n",
      "------------------------------------------------------\n"
     ]
    },
    {
     "name": "stderr",
     "output_type": "stream",
     "text": [
      "C:\\Users\\user\\anaconda3\\lib\\site-packages\\statsmodels\\sandbox\\stats\\multicomp.py:775: UserWarning: FixedFormatter should only be used together with FixedLocator\n",
      "  ax1.set_yticklabels(np.insert(self.groupsunique.astype(str), 0, ''))\n"
     ]
    },
    {
     "data": {
      "image/png": "[encoded data removed]",
      "text/plain": [
       "<Figure size 720x432 with 1 Axes>"
      ]
     },
     "execution_count": 26,
     "metadata": {},
     "output_type": "execute_result"
    },
    {
     "data": {
      "image/png": "[encoded data removed]",
      "text/plain": [
       "<Figure size 720x432 with 1 Axes>"
      ]
     },
     "metadata": {
      "needs_background": "light"
     },
     "output_type": "display_data"
    }
   ],
   "source": [
    "from statsmodels.stats.multicomp import pairwise_tukeyhsd\n",
    "\n",
    "# alpha = Family-wise error rate\n",
    "result=pairwise_tukeyhsd(df['ResponseTime'],df['System'],alpha=0.05)\n",
    "print(result)\n",
    "result.plot_simultaneous()"
   ]
  },
  {
   "cell_type": "markdown",
   "id": "8423f09b",
   "metadata": {},
   "source": [
    "# Suppose we want to the test to detect the mean difference of any two systems that is larger than a with probability at Least 0.9, what should be the number of sessions to collect the data?"
   ]
  },
  {
   "cell_type": "markdown",
   "id": "5d75ac7d",
   "metadata": {},
   "source": [
    "## Ans. Sample sizes is 27 โดยมีค่า power of statistics test =0.9"
   ]
  }
 ],
 "metadata": {
  "kernelspec": {
   "display_name": "Python 3 (ipykernel)",
   "language": "python",
   "name": "python3"
  },
  "language_info": {
   "codemirror_mode": {
    "name": "ipython",
    "version": 3
   },
   "file_extension": ".py",
   "mimetype": "text/x-python",
   "name": "python",
   "nbconvert_exporter": "python",
   "pygments_lexer": "ipython3",
   "version": "3.8.8"
  }
 },
 "nbformat": 4,
 "nbformat_minor": 5
}
