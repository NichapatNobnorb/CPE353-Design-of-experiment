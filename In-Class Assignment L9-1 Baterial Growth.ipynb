{
 "cells": [
  {
   "cell_type": "markdown",
   "id": "8cb169d3",
   "metadata": {},
   "source": [
    "## Your Turn -- Activity I:  Bacterial Growth "
   ]
  },
  {
   "cell_type": "code",
   "execution_count": 2,
   "id": "20732aa7",
   "metadata": {},
   "outputs": [
    {
     "name": "stdout",
     "output_type": "stream",
     "text": [
      "\n",
      "Enabling interactive shell outputs ...\n",
      "   Use command pass; to disable cell text outputs\n"
     ]
    }
   ],
   "source": [
    "print('\\nEnabling interactive shell outputs ...')\n",
    "print('   Use command pass; to disable cell text outputs')\n",
    "from IPython.core.interactiveshell import InteractiveShell\n",
    "InteractiveShell.ast_node_interactivity = \"all\"\n",
    "\n",
    "import warnings\n",
    "warnings.filterwarnings('ignore') \n",
    "warnings.simplefilter(action=\"ignore\",category=UserWarning)\n",
    "warnings.simplefilter(action=\"ignore\",category=FutureWarning)\n",
    "\n",
    "import pandas as pd \n",
    "import numpy as np\n",
    "import matplotlib.pyplot as plt\n",
    "import seaborn as sns\n",
    "from scipy import stats\n",
    "import statsmodels.api as sm\n",
    "\n",
    "\n",
    "\n",
    "%matplotlib inline\n",
    "%config InlineBackend.figure_formats = {'png', 'retina'}"
   ]
  },
  {
   "cell_type": "code",
   "execution_count": 3,
   "id": "8585ea1d",
   "metadata": {},
   "outputs": [
    {
     "data": {
      "text/html": [
       "<div>\n",
       "<style scoped>\n",
       "    .dataframe tbody tr th:only-of-type {\n",
       "        vertical-align: middle;\n",
       "    }\n",
       "\n",
       "    .dataframe tbody tr th {\n",
       "        vertical-align: top;\n",
       "    }\n",
       "\n",
       "    .dataframe thead th {\n",
       "        text-align: right;\n",
       "    }\n",
       "</style>\n",
       "<table border=\"1\" class=\"dataframe\">\n",
       "  <thead>\n",
       "    <tr style=\"text-align: right;\">\n",
       "      <th></th>\n",
       "      <th>A</th>\n",
       "      <th>B</th>\n",
       "      <th>Rep1</th>\n",
       "      <th>Rep2</th>\n",
       "      <th>Rep3</th>\n",
       "      <th>Rep4</th>\n",
       "      <th>Rep5</th>\n",
       "      <th>Rep6</th>\n",
       "    </tr>\n",
       "  </thead>\n",
       "  <tbody>\n",
       "    <tr>\n",
       "      <th>0</th>\n",
       "      <td>-1</td>\n",
       "      <td>-1</td>\n",
       "      <td>21</td>\n",
       "      <td>22</td>\n",
       "      <td>23</td>\n",
       "      <td>28</td>\n",
       "      <td>20</td>\n",
       "      <td>26</td>\n",
       "    </tr>\n",
       "    <tr>\n",
       "      <th>1</th>\n",
       "      <td>1</td>\n",
       "      <td>-1</td>\n",
       "      <td>37</td>\n",
       "      <td>39</td>\n",
       "      <td>38</td>\n",
       "      <td>38</td>\n",
       "      <td>35</td>\n",
       "      <td>36</td>\n",
       "    </tr>\n",
       "    <tr>\n",
       "      <th>2</th>\n",
       "      <td>-1</td>\n",
       "      <td>1</td>\n",
       "      <td>25</td>\n",
       "      <td>26</td>\n",
       "      <td>24</td>\n",
       "      <td>25</td>\n",
       "      <td>29</td>\n",
       "      <td>27</td>\n",
       "    </tr>\n",
       "    <tr>\n",
       "      <th>3</th>\n",
       "      <td>1</td>\n",
       "      <td>1</td>\n",
       "      <td>31</td>\n",
       "      <td>34</td>\n",
       "      <td>29</td>\n",
       "      <td>33</td>\n",
       "      <td>30</td>\n",
       "      <td>35</td>\n",
       "    </tr>\n",
       "  </tbody>\n",
       "</table>\n",
       "</div>"
      ],
      "text/plain": [
       "   A  B  Rep1  Rep2  Rep3  Rep4  Rep5  Rep6\n",
       "0 -1 -1    21    22    23    28    20    26\n",
       "1  1 -1    37    39    38    38    35    36\n",
       "2 -1  1    25    26    24    25    29    27\n",
       "3  1  1    31    34    29    33    30    35"
      ]
     },
     "execution_count": 3,
     "metadata": {},
     "output_type": "execute_result"
    }
   ],
   "source": [
    "growth_df = pd.read_excel('lect09-2k-factorial.xlsx', sheet_name='Bacteria')\n",
    "growth_df"
   ]
  },
  {
   "cell_type": "markdown",
   "id": "a3c5dc38",
   "metadata": {},
   "source": [
    "## Analyze the bacterial growth data in the table below and draw conclusions."
   ]
  },
  {
   "cell_type": "code",
   "execution_count": 4,
   "id": "3129beb7",
   "metadata": {},
   "outputs": [
    {
     "data": {
      "text/plain": [
       "(   A  B  AB\n",
       " 0 -1 -1   1\n",
       " 1  1 -1  -1\n",
       " 2 -1  1  -1\n",
       " 3  1  1   1,\n",
       " array([[140],\n",
       "        [223],\n",
       "        [156],\n",
       "        [192]]))"
      ]
     },
     "execution_count": 4,
     "metadata": {},
     "output_type": "execute_result"
    }
   ],
   "source": [
    "factorial_eff = pd.DataFrame(growth_df, columns=['A','B'])\n",
    "\n",
    "# Add interaction effects\n",
    "factorial_eff['AB'] = factorial_eff['A']*factorial_eff['B']\n",
    "\n",
    "growth_y = np.array([[21,22,23,28,20,26],\n",
    "             [37,39,38,38,35,36],\n",
    "             [25,26,24,25,29,27],\n",
    "             [31,34,29,33,30,35]])\n",
    "\n",
    "# Get a vector of total response\n",
    "total_growth = np.c_[growth_y.sum(axis=1)]\n",
    "factorial_eff, total_growth"
   ]
  },
  {
   "cell_type": "code",
   "execution_count": 5,
   "id": "9612f2be",
   "metadata": {},
   "outputs": [
    {
     "name": "stdout",
     "output_type": "stream",
     "text": [
      "Contrast effects\n",
      "A     119\n",
      "B     -15\n",
      "AB    -47\n",
      "\n",
      "Effect estimates\n",
      "A     9.916667\n",
      "B    -1.250000\n",
      "AB   -3.916667\n",
      "\n",
      "SS effects\n",
      "A     590.041667\n",
      "B       9.375000\n",
      "AB     92.041667\n"
     ]
    }
   ],
   "source": [
    "k, n = np.log2(len(factorial_eff)), growth_y.shape[1]\n",
    "\n",
    "contrast_eff = factorial_eff.iloc[:,0:].mul(total_growth).sum()\n",
    "print('Contrast effects\\n', contrast_eff.to_string(), sep='')\n",
    "\n",
    "effects = (contrast_eff)/((2**(k-1))*n)\n",
    "print('\\nEffect estimates\\n', effects.to_string(), sep='')\n",
    "\n",
    "ss_eff = (contrast_eff**2)/((2**k)*n)\n",
    "print('\\nSS effects\\n', ss_eff.to_string(), sep='')"
   ]
  },
  {
   "cell_type": "code",
   "execution_count": 6,
   "id": "facf0fab",
   "metadata": {},
   "outputs": [
    {
     "name": "stdout",
     "output_type": "stream",
     "text": [
      "SSE = 102.17, MSE = 5.11\n"
     ]
    }
   ],
   "source": [
    "SST = (sum(sum(growth_y**2)) - sum(total_growth)**2/growth_y.size)[0]\n",
    "SSE = SST - sum(ss_eff)\n",
    "MSE = SSE/(growth_y.size - len(ss_eff) - 1)\n",
    "print(\"SSE = {:.2f}, MSE = {:.2f}\".format(SSE, MSE))"
   ]
  },
  {
   "cell_type": "code",
   "execution_count": 7,
   "id": "85d779a9",
   "metadata": {},
   "outputs": [
    {
     "data": {
      "text/plain": [
       "9.290524855305233e-10"
      ]
     },
     "execution_count": 7,
     "metadata": {},
     "output_type": "execute_result"
    }
   ],
   "source": [
    "stats.f.sf(ss_eff['A']/MSE,1,20)"
   ]
  },
  {
   "cell_type": "code",
   "execution_count": 8,
   "id": "f8c92689",
   "metadata": {},
   "outputs": [
    {
     "data": {
      "text/plain": [
       "0.19061715658088677"
      ]
     },
     "execution_count": 8,
     "metadata": {},
     "output_type": "execute_result"
    }
   ],
   "source": [
    "stats.f.sf(ss_eff['B']/MSE,1,20)"
   ]
  },
  {
   "cell_type": "code",
   "execution_count": 9,
   "id": "caaf69b1",
   "metadata": {},
   "outputs": [
    {
     "data": {
      "text/plain": [
       "0.0003969387187647818"
      ]
     },
     "execution_count": 9,
     "metadata": {},
     "output_type": "execute_result"
    }
   ],
   "source": [
    "stats.f.sf(ss_eff['AB']/MSE,1,20)"
   ]
  },
  {
   "cell_type": "markdown",
   "id": "ac16a743",
   "metadata": {},
   "source": [
    "### จากการทำ test statistic พบว่าค่า Time และค่า interaction ระหว่าง AB significant มีค่ามากกว่า 0.05 \n",
    "### แต่ค่า Culture Medium not significant ค่า p-value < 0.05  "
   ]
  },
  {
   "cell_type": "markdown",
   "id": "bffafc89",
   "metadata": {},
   "source": [
    "## Write down a regression model for predicting the bacterial growth using the effect estimates."
   ]
  },
  {
   "cell_type": "code",
   "execution_count": 11,
   "id": "496b7cc6",
   "metadata": {},
   "outputs": [
    {
     "data": {
      "text/plain": [
       "array([29.625])"
      ]
     },
     "execution_count": 11,
     "metadata": {},
     "output_type": "execute_result"
    }
   ],
   "source": [
    "total_avg = sum(total_growth)/24\n",
    "total_avg"
   ]
  },
  {
   "cell_type": "code",
   "execution_count": 13,
   "id": "d8c4e25c",
   "metadata": {},
   "outputs": [
    {
     "data": {
      "text/plain": [
       "(4.958333333333333, -0.625, -1.9583333333333333)"
      ]
     },
     "execution_count": 13,
     "metadata": {},
     "output_type": "execute_result"
    }
   ],
   "source": [
    "half_A = effects['A']/2\n",
    "half_B = effects['B']/2\n",
    "half_AB = effects['AB']/2\n",
    "half_A, half_B, half_AB"
   ]
  },
  {
   "cell_type": "code",
   "execution_count": null,
   "id": "0bf4c63a",
   "metadata": {},
   "outputs": [],
   "source": []
  }
 ],
 "metadata": {
  "kernelspec": {
   "display_name": "Python 3 (ipykernel)",
   "language": "python",
   "name": "python3"
  },
  "language_info": {
   "codemirror_mode": {
    "name": "ipython",
    "version": 3
   },
   "file_extension": ".py",
   "mimetype": "text/x-python",
   "name": "python",
   "nbconvert_exporter": "python",
   "pygments_lexer": "ipython3",
   "version": "3.8.8"
  }
 },
 "nbformat": 4,
 "nbformat_minor": 5
}
